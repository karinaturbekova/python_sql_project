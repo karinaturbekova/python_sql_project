{
 "cells": [
  {
   "cell_type": "code",
   "execution_count": null,
   "id": "250a1cf1-9e30-41af-9f40-e0a3a883999c",
   "metadata": {},
   "outputs": [],
   "source": [
    "from envar import get_db_config\n",
    "import mysql.connector\n",
    "import db, db_write\n",
    "from typing import List, Tuple\n",
    "\n",
    "connection = mysql.connector.connect(**get_db_config())\n",
    "\n",
    "def search_by_keyword(option_name: str, keyword: str) -> List[Tuple]:\n",
    "    db_write.write_keywords_to_table(connection, keyword) \n",
    "    movies: List[Tuple] = []\n",
    "    if option_name == 'title':\n",
    "        movies = db.search_movie_by_title(connection, keyword)\n",
    "\n",
    "    elif option_name == 'description':\n",
    "        movies = db.search_movie_by_description(connection, keyword)\n",
    "\n",
    "    elif option_name == 'actor':\n",
    "        movies = db.search_movie_by_actor(connection, keyword)\n",
    "\n",
    "    return movies\n",
    "\n",
    "def genre_list() -> List[Tuple]:\n",
    "    genres = db.genre_list(connection)\n",
    "    return genres\n",
    "\n",
    "def search_by_genre(keyword: str) -> List[Tuple]:      \n",
    "    db_write.write_keywords_to_table(connection, keyword)\n",
    "    movies = db.search_movie_by_genre(connection, keyword)    \n",
    "    return movies\n",
    "\n",
    "def search_by_year(year: str) -> List[Tuple]:    \n",
    "    db_write.write_keywords_to_table(connection, year)\n",
    "    movies = db.search_movie_by_release_year(connection, year)      \n",
    "    return movies\n",
    "\n",
    "def search_by_genre_and_year(genre_keyword: str, year_keyword: str) -> List[Tuple]:\n",
    "    db_write.write_keywords_to_table(connection, f'{genre_keyword} {year_keyword}')\n",
    "    movies = db.search_movie_by_genre_release_year(connection, genre_keyword, year_keyword)\n",
    "    return movies\n",
    "\n",
    "def show_popular_searches() -> List[Tuple]:    \n",
    "    popular_searches = db.get_popular_searches(connection)\n",
    "    return popular_searches"
   ]
  }
 ],
 "metadata": {
  "kernelspec": {
   "display_name": "Python 3 (ipykernel)",
   "language": "python",
   "name": "python3"
  },
  "language_info": {
   "codemirror_mode": {
    "name": "ipython",
    "version": 3
   },
   "file_extension": ".py",
   "mimetype": "text/x-python",
   "name": "python",
   "nbconvert_exporter": "python",
   "pygments_lexer": "ipython3",
   "version": "3.13.1"
  }
 },
 "nbformat": 4,
 "nbformat_minor": 5
}
