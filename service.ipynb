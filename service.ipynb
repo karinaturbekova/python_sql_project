{
 "cells": [
  {
   "cell_type": "code",
   "execution_count": 3,
   "id": "250a1cf1-9e30-41af-9f40-e0a3a883999c",
   "metadata": {},
   "outputs": [],
   "source": [
    "from envar import get_db_config\n",
    "import mysql.connector\n",
    "import db, db_write\n",
    "from typing import List, Tuple\n",
    "\n",
    "class MovieService:\n",
    "    def __init__(self, db_reader: db.DatabaseReader, db_writer: db_write.DatabaseWriter):\n",
    "        self.db_reader = db_reader\n",
    "        self.db_writer = db_writer\n",
    "\n",
    "    def search_by_keyword(self, option_name: str, keyword: str) -> List[Tuple]:\n",
    "        self.db_writer.write_keywords_to_table(keyword) \n",
    "        movies: List[Tuple] = []\n",
    "        if option_name == 'title':\n",
    "            movies = self.db_reader.search_movie_by_title(keyword)\n",
    "    \n",
    "        elif option_name == 'description':\n",
    "            movies = self.db_reader.search_movie_by_description(keyword)\n",
    "    \n",
    "        elif option_name == 'actor':\n",
    "            movies = self.db_reader.search_movie_by_actor(keyword)\n",
    "    \n",
    "        return movies\n",
    "\n",
    "    def genre_list(self) -> List[Tuple]:\n",
    "        genres = self.db_reader.genre_list()\n",
    "        return genres\n",
    "\n",
    "    def search_by_genre(self, keyword: str) -> List[Tuple]:      \n",
    "        self.db_writer.write_keywords_to_table(keyword)\n",
    "        movies = self.db_reader.search_movie_by_genre(keyword)    \n",
    "        return movies\n",
    "\n",
    "    def search_by_year(self, year: str) -> List[Tuple]:    \n",
    "        self.db_writer.write_keywords_to_table(year)\n",
    "        movies = self.db_reader.search_movie_by_release_year(year)      \n",
    "        return movies\n",
    "\n",
    "    def search_by_genre_and_year(self, genre_keyword: str, year_keyword: str) -> List[Tuple]:\n",
    "        self.db_writer.write_keywords_to_table(f'{genre_keyword} {year_keyword}')\n",
    "        movies = self.db_reader.search_movie_by_genre_release_year(genre_keyword, year_keyword)\n",
    "        return movies\n",
    "\n",
    "    def show_popular_searches(self) -> List[Tuple]:    \n",
    "        popular_searches = self.db_reader.get_popular_searches()\n",
    "        return popular_searches"
   ]
  },
  {
   "cell_type": "code",
   "execution_count": null,
   "id": "1cc15020-d005-49b0-9089-ed5e24da7eb1",
   "metadata": {},
   "outputs": [],
   "source": []
  }
 ],
 "metadata": {
  "kernelspec": {
   "display_name": "Python 3 (ipykernel)",
   "language": "python",
   "name": "python3"
  },
  "language_info": {
   "codemirror_mode": {
    "name": "ipython",
    "version": 3
   },
   "file_extension": ".py",
   "mimetype": "text/x-python",
   "name": "python",
   "nbconvert_exporter": "python",
   "pygments_lexer": "ipython3",
   "version": "3.13.1"
  }
 },
 "nbformat": 4,
 "nbformat_minor": 5
}
