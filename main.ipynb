{
 "cells": [
  {
   "cell_type": "code",
   "execution_count": 1,
   "id": "afe70feb-6b33-4720-9a25-9eb7dd3af2a5",
   "metadata": {},
   "outputs": [
    {
     "name": "stdout",
     "output_type": "stream",
     "text": [
      "1. Search movies by title\n",
      "2. Search movies by description\n",
      "3. Search movies by actor\n",
      "4. Search movies by genre\n",
      "5. Search movies by release year\n",
      "6. Search movies by genre and release year\n",
      "7. Popular Searches\n",
      "8. Stop\n"
     ]
    },
    {
     "name": "stdin",
     "output_type": "stream",
     "text": [
      "\n",
      "Enter your choice (1-8):  1\n",
      "Enter a keyword for title:   \n"
     ]
    },
    {
     "name": "stdout",
     "output_type": "stream",
     "text": [
      "Searching movies by title with keyword: ' '\n",
      "Error: Validation failed for input: Keyword cannot be empty.\n",
      "No results found.\n",
      "\n",
      "1. Search movies by title\n",
      "2. Search movies by description\n",
      "3. Search movies by actor\n",
      "4. Search movies by genre\n",
      "5. Search movies by release year\n",
      "6. Search movies by genre and release year\n",
      "7. Popular Searches\n",
      "8. Stop\n"
     ]
    },
    {
     "name": "stdin",
     "output_type": "stream",
     "text": [
      "\n",
      "Enter your choice (1-8):  2\n",
      "Enter a keyword for description:   \n"
     ]
    },
    {
     "name": "stdout",
     "output_type": "stream",
     "text": [
      "Searching movies by description with keyword: ' '\n",
      "Error: Validation failed for input: Keyword cannot be empty.\n",
      "No results found.\n",
      "\n",
      "1. Search movies by title\n",
      "2. Search movies by description\n",
      "3. Search movies by actor\n",
      "4. Search movies by genre\n",
      "5. Search movies by release year\n",
      "6. Search movies by genre and release year\n",
      "7. Popular Searches\n",
      "8. Stop\n"
     ]
    },
    {
     "name": "stdin",
     "output_type": "stream",
     "text": [
      "\n",
      "Enter your choice (1-8):  5\n",
      "Enter a release year:  sadfg\n"
     ]
    },
    {
     "name": "stdout",
     "output_type": "stream",
     "text": [
      "Searching movies by release year: 'sadfg'\n",
      "Error: Validation failed for input: Release Year must be a valid integer.\n",
      "No results found.\n",
      "\n",
      "1. Search movies by title\n",
      "2. Search movies by description\n",
      "3. Search movies by actor\n",
      "4. Search movies by genre\n",
      "5. Search movies by release year\n",
      "6. Search movies by genre and release year\n",
      "7. Popular Searches\n",
      "8. Stop\n"
     ]
    },
    {
     "name": "stdin",
     "output_type": "stream",
     "text": [
      "\n",
      "Enter your choice (1-8):  6\n"
     ]
    },
    {
     "name": "stdout",
     "output_type": "stream",
     "text": [
      "First, choose a genre.\n",
      "Select a genre:\n",
      "1. Action\n",
      "2. Animation\n",
      "3. Children\n",
      "4. Classics\n",
      "5. Comedy\n",
      "6. Documentary\n",
      "7. Drama\n",
      "8. Family\n",
      "9. Foreign\n",
      "10. Games\n",
      "11. Horror\n",
      "12. Music\n",
      "13. New\n",
      "14. Sci-Fi\n",
      "15. Sports\n",
      "16. Travel\n"
     ]
    },
    {
     "name": "stdin",
     "output_type": "stream",
     "text": [
      "Enter the genre number or name:  14\n",
      "Enter a release year:  etyyu\n"
     ]
    },
    {
     "name": "stdout",
     "output_type": "stream",
     "text": [
      "Searching movies by genre and year: 'Sci-Fi etyyu'\n",
      "Error: Validation failed for input: Release Year must be a valid integer.\n",
      "No results found.\n",
      "\n",
      "1. Search movies by title\n",
      "2. Search movies by description\n",
      "3. Search movies by actor\n",
      "4. Search movies by genre\n",
      "5. Search movies by release year\n",
      "6. Search movies by genre and release year\n",
      "7. Popular Searches\n",
      "8. Stop\n"
     ]
    },
    {
     "name": "stdin",
     "output_type": "stream",
     "text": [
      "\n",
      "Enter your choice (1-8):  7\n"
     ]
    },
    {
     "name": "stdout",
     "output_type": "stream",
     "text": [
      "Popular Searches:\n",
      "+-----------+\n",
      "| Title     |\n",
      "+===========+\n",
      "| academy   |\n",
      "+-----------+\n",
      "| drama     |\n",
      "+-----------+\n",
      "| Action    |\n",
      "+-----------+\n",
      "| Travel    |\n",
      "+-----------+\n",
      "| Horror    |\n",
      "+-----------+\n",
      "| jim       |\n",
      "+-----------+\n",
      "| Comedy    |\n",
      "+-----------+\n",
      "| New       |\n",
      "+-----------+\n",
      "| Animation |\n",
      "+-----------+\n",
      "| 2020      |\n",
      "+-----------+\n",
      "1. Search movies by title\n",
      "2. Search movies by description\n",
      "3. Search movies by actor\n",
      "4. Search movies by genre\n",
      "5. Search movies by release year\n",
      "6. Search movies by genre and release year\n",
      "7. Popular Searches\n",
      "8. Stop\n"
     ]
    },
    {
     "name": "stdin",
     "output_type": "stream",
     "text": [
      "\n",
      "Enter your choice (1-8):  4\n"
     ]
    },
    {
     "name": "stdout",
     "output_type": "stream",
     "text": [
      "Select a genre:\n",
      "1. Action\n",
      "2. Animation\n",
      "3. Children\n",
      "4. Classics\n",
      "5. Comedy\n",
      "6. Documentary\n",
      "7. Drama\n",
      "8. Family\n",
      "9. Foreign\n",
      "10. Games\n",
      "11. Horror\n",
      "12. Music\n",
      "13. New\n",
      "14. Sci-Fi\n",
      "15. Sports\n",
      "16. Travel\n"
     ]
    },
    {
     "name": "stdin",
     "output_type": "stream",
     "text": [
      "Enter the genre number or name:  16\n"
     ]
    },
    {
     "name": "stdout",
     "output_type": "stream",
     "text": [
      "Searching movies by genre: 'Travel'\n",
      "+----------------------+---------+--------------------------------------------------------------------------------------------------------------------------------+----------------+------------------------------------------------------------------------------------------------------------------------------------------------------------------------------------------+\n",
      "| Title                | Genre   | Description                                                                                                                    |   Release Year | Actor                                                                                                                                                                                    |\n",
      "+======================+=========+================================================================================================================================+================+==========================================================================================================================================================================================+\n",
      "| ARSENIC INDEPENDENCE | Travel  | A Fanciful Documentary of a Mad Cow And a Womanizer who must Find a Dentist in Berlin                                          |           1984 | CUBA ALLEN, RITA REYNOLDS, OPRAH KILMER                                                                                                                                                  |\n",
      "+----------------------+---------+--------------------------------------------------------------------------------------------------------------------------------+----------------+------------------------------------------------------------------------------------------------------------------------------------------------------------------------------------------+\n",
      "| BASIC EASY           | Travel  | A Stunning Epistle of a Man And a Husband who must Reach a Mad Scientist in A Jet Boat                                         |           2023 | JESSICA BAILEY, PENELOPE MONROE, GRETA KEITEL, EWAN GOODING, EMILY DEE, GROUCHO WILLIAMS                                                                                                 |\n",
      "+----------------------+---------+--------------------------------------------------------------------------------------------------------------------------------+----------------+------------------------------------------------------------------------------------------------------------------------------------------------------------------------------------------+\n",
      "| BIRD INDEPENDENCE    | Travel  | A Thrilling Documentary of a Car And a Student who must Sink a Hunter in The Canadian Rockies                                  |           2007 | FAY KILMER, JAYNE NOLTE                                                                                                                                                                  |\n",
      "+----------------------+---------+--------------------------------------------------------------------------------------------------------------------------------+----------------+------------------------------------------------------------------------------------------------------------------------------------------------------------------------------------------+\n",
      "| BOILED DARES         | Travel  | A Awe-Inspiring Story of a Waitress And a Dog who must Discover a Dentist in Ancient Japan                                     |           1988 | DAN TORN, TIM HACKMAN, NICK STALLONE, PENELOPE PINKETT, JIM MOSTEL, MORGAN HOPKINS, GREGORY GOODING, JULIA FAWCETT                                                                       |\n",
      "+----------------------+---------+--------------------------------------------------------------------------------------------------------------------------------+----------------+------------------------------------------------------------------------------------------------------------------------------------------------------------------------------------------+\n",
      "| BOONDOCK BALLROOM    | Travel  | A Fateful Panorama of a Crocodile And a Boy who must Defeat a Monkey in The Gulf of Mexico                                     |           2012 | ED CHASE, JENNIFER DAVIS, UMA WOOD, FRED COSTNER, KIRSTEN PALTROW, SANDRA PECK, DAN HARRIS, RAY JOHANSSON, KENNETH PESCI, CHRIS BRIDGES, WARREN JACKMAN, HUMPHREY GARLAND, AUDREY BAILEY |\n",
      "+----------------------+---------+--------------------------------------------------------------------------------------------------------------------------------+----------------+------------------------------------------------------------------------------------------------------------------------------------------------------------------------------------------+\n",
      "| BORN SPINAL          | Travel  | A Touching Epistle of a Frisbee And a Husband who must Pursue a Student in Nigeria                                             |           2008 | KIRSTEN PALTROW, SISSY SOBIESKI, NICK STALLONE, DUSTIN TAUTOU, RAY JOHANSSON, KENNETH PALTROW, DAN STREEP, RITA REYNOLDS, MERYL ALLEN                                                    |\n",
      "+----------------------+---------+--------------------------------------------------------------------------------------------------------------------------------+----------------+------------------------------------------------------------------------------------------------------------------------------------------------------------------------------------------+\n",
      "| BUCKET BROTHERHOOD   | Travel  | A Amazing Display of a Girl And a Womanizer who must Succumb a Lumberjack in A Baloon Factory                                  |           1986 | RIP CRAWFORD, TIM HACKMAN, GARY PHOENIX, CHARLIZE DENCH, KIRSTEN AKROYD, BURT TEMPLE                                                                                                     |\n",
      "+----------------------+---------+--------------------------------------------------------------------------------------------------------------------------------+----------------+------------------------------------------------------------------------------------------------------------------------------------------------------------------------------------------+\n",
      "| CASABLANCA SUPER     | Travel  | A Amazing Panorama of a Crocodile And a Forensic Psychologist who must Pursue a Secret Agent in The First Manned Space Station |           2002 | KIRSTEN AKROYD, WALTER TORN, ANGELA WITHERSPOON, REESE WEST                                                                                                                              |\n",
      "+----------------------+---------+--------------------------------------------------------------------------------------------------------------------------------+----------------+------------------------------------------------------------------------------------------------------------------------------------------------------------------------------------------+\n",
      "| CASSIDY WYOMING      | Travel  | A Intrepid Drama of a Frisbee And a Hunter who must Kill a Secret Agent in New Orleans                                         |           1981 | CUBA OLIVIER, SANDRA KILMER, AUDREY OLIVIER, ANGELA HUDSON, LUCILLE DEE, ANGELA WITHERSPOON, MARY KEITEL                                                                                 |\n",
      "+----------------------+---------+--------------------------------------------------------------------------------------------------------------------------------+----------------+------------------------------------------------------------------------------------------------------------------------------------------------------------------------------------------+\n",
      "| COMA HEAD            | Travel  | A Awe-Inspiring Drama of a Boy And a Frisbee who must Escape a Pastry Chef in California                                       |           2020 | CAMERON WRAY, RENEE TRACY, GEOFFREY HESTON                                                                                                                                               |\n",
      "+----------------------+---------+--------------------------------------------------------------------------------------------------------------------------------+----------------+------------------------------------------------------------------------------------------------------------------------------------------------------------------------------------------+\n",
      "1. Search movies by title\n",
      "2. Search movies by description\n",
      "3. Search movies by actor\n",
      "4. Search movies by genre\n",
      "5. Search movies by release year\n",
      "6. Search movies by genre and release year\n",
      "7. Popular Searches\n",
      "8. Stop\n"
     ]
    },
    {
     "name": "stdin",
     "output_type": "stream",
     "text": [
      "\n",
      "Enter your choice (1-8):  0\n"
     ]
    },
    {
     "name": "stdout",
     "output_type": "stream",
     "text": [
      "Invalid choice. Please try again.\n",
      "1. Search movies by title\n",
      "2. Search movies by description\n",
      "3. Search movies by actor\n",
      "4. Search movies by genre\n",
      "5. Search movies by release year\n",
      "6. Search movies by genre and release year\n",
      "7. Popular Searches\n",
      "8. Stop\n"
     ]
    },
    {
     "name": "stdin",
     "output_type": "stream",
     "text": [
      "\n",
      "Enter your choice (1-8):  8\n"
     ]
    },
    {
     "name": "stdout",
     "output_type": "stream",
     "text": [
      "Goodbye!\n"
     ]
    }
   ],
   "source": [
    "from envar import get_db_config\n",
    "import mysql.connector\n",
    "import db, db_write\n",
    "import service\n",
    "import ui\n",
    "from my_exceptions import InvalidInputError, DatabaseConnectionError, QueryExecutionError\n",
    "\n",
    "def main():\n",
    "    db_reader = db.DatabaseReader(get_db_config())\n",
    "    db_writer = db_write.DatabaseWriter(get_db_config())\n",
    "    movie_service = service.MovieService(db_reader, db_writer)\n",
    "    movie_ui = ui.MovieSearchUI(movie_service)\n",
    "    while True:\n",
    "        stop = movie_ui.start()\n",
    "        if stop == 'stop':\n",
    "            break        \n",
    "\n",
    "if __name__ == '__main__':\n",
    "    main()\n",
    "    "
   ]
  },
  {
   "cell_type": "code",
   "execution_count": null,
   "id": "0ce8ca13-cb0f-4226-b1cc-869441aece9a",
   "metadata": {},
   "outputs": [],
   "source": []
  }
 ],
 "metadata": {
  "kernelspec": {
   "display_name": "Python 3 (ipykernel)",
   "language": "python",
   "name": "python3"
  },
  "language_info": {
   "codemirror_mode": {
    "name": "ipython",
    "version": 3
   },
   "file_extension": ".py",
   "mimetype": "text/x-python",
   "name": "python",
   "nbconvert_exporter": "python",
   "pygments_lexer": "ipython3",
   "version": "3.13.1"
  }
 },
 "nbformat": 4,
 "nbformat_minor": 5
}
