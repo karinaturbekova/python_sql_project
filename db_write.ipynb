{
 "cells": [
  {
   "cell_type": "code",
   "execution_count": 2,
   "id": "087aa34a-0383-40f7-bee5-d9f24649bfdb",
   "metadata": {},
   "outputs": [
    {
     "name": "stdout",
     "output_type": "stream",
     "text": [
      "Keyword 'Johnny_2024' successfully inserted.\n",
      "[{'key_words': 'Comedy', 'count_of_key_words': 5}, {'key_words': 'Animation', 'count_of_key_words': 4}, {'key_words': 'Action', 'count_of_key_words': 3}, {'key_words': 'Johnny_2024', 'count_of_key_words': 2}]\n"
     ]
    }
   ],
   "source": [
    "from envar import get_db_config\n",
    "import mysql.connector\n",
    "\n",
    "connection = mysql.connector.connect(**get_db_config())\n",
    "\n",
    "def write_keywords_to_table(connection, parameter: str) -> str:\n",
    "    \n",
    "    with connection.cursor(dictionary=True) as cursor:\n",
    "        query = '''INSERT INTO search_history \n",
    "                    \t(key_words) \n",
    "                    VALUES \n",
    "                    \t(%s);'''\n",
    "        cursor.execute(query, (parameter,))\n",
    "        connection.commit()  # Подтверждение изменений\n",
    "    return f\"Keyword '{parameter}' successfully inserted.\"\n",
    "\n",
    "def show_popular_keywords(connection) -> list[dict]:\n",
    "    \n",
    "    with connection.cursor(dictionary=True) as cursor:\n",
    "        query = '''SELECT \n",
    "                        key_words, COUNT(*) AS count_of_key_words\n",
    "                    FROM\n",
    "                        search_history\n",
    "                    GROUP BY key_words\n",
    "                    ORDER BY count_of_key_words DESC;'''\n",
    "        cursor.execute(query)\n",
    "        result = cursor.fetchall() \n",
    "    return result\n",
    "\n",
    "\n",
    "# print(write_keywords_to_table(connection, 'Johnny_2024'))\n",
    "# print(show_popular_keywords(connection))\n"
   ]
  },
  {
   "cell_type": "code",
   "execution_count": null,
   "id": "3a0a60f9-1e04-4eb5-b481-7318804658e8",
   "metadata": {},
   "outputs": [],
   "source": []
  }
 ],
 "metadata": {
  "kernelspec": {
   "display_name": "Python 3 (ipykernel)",
   "language": "python",
   "name": "python3"
  },
  "language_info": {
   "codemirror_mode": {
    "name": "ipython",
    "version": 3
   },
   "file_extension": ".py",
   "mimetype": "text/x-python",
   "name": "python",
   "nbconvert_exporter": "python",
   "pygments_lexer": "ipython3",
   "version": "3.13.1"
  }
 },
 "nbformat": 4,
 "nbformat_minor": 5
}
