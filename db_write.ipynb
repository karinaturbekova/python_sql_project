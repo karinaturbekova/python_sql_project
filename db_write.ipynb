{
 "cells": [
  {
   "cell_type": "code",
   "execution_count": 1,
   "id": "087aa34a-0383-40f7-bee5-d9f24649bfdb",
   "metadata": {},
   "outputs": [],
   "source": [
    "from envar import get_db_config\n",
    "import mysql.connector\n",
    "from typing import List, Dict\n",
    "from my_exceptions import validate_string_input, validate_integer_input, validate_db_connection, QueryExecutionError, InvalidInputError, DatabaseConnectionError\n",
    "\n",
    "class DatabaseWriter:\n",
    "    def __init__(self, db_config: Dict[str, str]):\n",
    "        self.connection = mysql.connector.connect(**db_config)\n",
    "\n",
    "    def write_keywords_to_table(self, parameter: str) -> str:\n",
    "        try:\n",
    "            parameter = validate_string_input(parameter, \"Keyword\")\n",
    "            \n",
    "            with self.connection.cursor(dictionary=True) as cursor:\n",
    "                query = '''INSERT INTO search_history \n",
    "                            \t(key_words)\n",
    "                            VALUES\n",
    "                            \t(%s);'''\n",
    "                cursor.execute(query, (parameter,))\n",
    "                self.connection.commit()\n",
    "            return f\"Keyword '{parameter}' successfully inserted.\"\n",
    "        except mysql.connector.Error as e:\n",
    "            raise QueryExecutionError(f\"An error occurred while executing the insert query: {e}\")\n",
    "        except InvalidInputError as e:\n",
    "            raise InvalidInputError(f\"Validation failed for input: {e}\")\n",
    "\n"
   ]
  },
  {
   "cell_type": "code",
   "execution_count": null,
   "id": "3a0a60f9-1e04-4eb5-b481-7318804658e8",
   "metadata": {},
   "outputs": [],
   "source": []
  }
 ],
 "metadata": {
  "kernelspec": {
   "display_name": "Python 3 (ipykernel)",
   "language": "python",
   "name": "python3"
  },
  "language_info": {
   "codemirror_mode": {
    "name": "ipython",
    "version": 3
   },
   "file_extension": ".py",
   "mimetype": "text/x-python",
   "name": "python",
   "nbconvert_exporter": "python",
   "pygments_lexer": "ipython3",
   "version": "3.13.1"
  }
 },
 "nbformat": 4,
 "nbformat_minor": 5
}
