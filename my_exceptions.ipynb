{
 "cells": [
  {
   "cell_type": "code",
   "execution_count": null,
   "id": "03b83c72-2d81-46a1-a839-0628c75f25cd",
   "metadata": {},
   "outputs": [],
   "source": [
    "class InvalidInputError(Exception):\n",
    "    \"\"\"Exception for invalid input data.\"\"\"\n",
    "    def __init__(self, message=\"Invalid input provided.\"):\n",
    "        super().__init__(message)\n",
    "\n",
    "class DatabaseConnectionError(Exception):\n",
    "    \"\"\"Exception for database connection errors.\"\"\"\n",
    "    def __init__(self, message=\"Failed to connect to the database.\"):\n",
    "        super().__init__(message)\n",
    "\n",
    "class QueryExecutionError(Exception):\n",
    "    \"\"\"Exception for query execution errors.\"\"\"\n",
    "    def __init__(self, message=\"Error occurred during query execution.\"):\n",
    "        super().__init__(message)\n",
    "\n",
    "def validate_string_input(input_value: str, field_name: str) -> str:\n",
    "    \"\"\"\n",
    "    - Removes extra spaces.\n",
    "    - Checks that the string is not empty.\n",
    "    \"\"\"\n",
    "    input_value = input_value.strip()\n",
    "    if not input_value:\n",
    "        raise InvalidInputError(f\"{field_name} cannot be empty.\")\n",
    "    return input_value\n",
    "\n",
    "def validate_integer_input(input_value: str, field_name: str) -> int:\n",
    "    \"\"\"\n",
    "    Validates input for conversion to an integer.\n",
    "    \"\"\"\n",
    "    if not input_value.isdigit():\n",
    "        raise InvalidInputError(f\"{field_name} must be a valid integer.\")\n",
    "    return int(input_value)\n",
    "\n",
    "def validate_db_connection(connection) -> None:\n",
    "    \"\"\"\n",
    "    Checks if the database connection is active.\n",
    "    \"\"\"\n",
    "    if connection is None or not connection.is_connected():\n",
    "        raise DatabaseConnectionError(\"The database connection is not active.\")\n"
   ]
  }
 ],
 "metadata": {
  "kernelspec": {
   "display_name": "Python 3 (ipykernel)",
   "language": "python",
   "name": "python3"
  },
  "language_info": {
   "codemirror_mode": {
    "name": "ipython",
    "version": 3
   },
   "file_extension": ".py",
   "mimetype": "text/x-python",
   "name": "python",
   "nbconvert_exporter": "python",
   "pygments_lexer": "ipython3",
   "version": "3.13.1"
  }
 },
 "nbformat": 4,
 "nbformat_minor": 5
}
