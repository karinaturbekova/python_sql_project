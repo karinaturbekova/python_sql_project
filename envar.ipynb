{
 "cells": [
  {
   "cell_type": "code",
   "execution_count": 1,
   "id": "4606ee3d-0c8d-4d5b-a796-1dde16a497b9",
   "metadata": {},
   "outputs": [],
   "source": [
    "import os\n",
    "from dotenv import load_dotenv\n",
    "from typing import Dict\n",
    "\n",
    "def get_db_config() -> Dict[str, str]:\n",
    "    load_dotenv()\n",
    "    config = {\n",
    "        'host': os.getenv('DB_HOST'),\n",
    "        'user': os.getenv('DB_USER'),\n",
    "        'password': os.getenv('DB_PASSWORD'),\n",
    "        'database': os.getenv('DB_NAME'),\n",
    "    }\n",
    "    return config\n"
   ]
  },
  {
   "cell_type": "code",
   "execution_count": null,
   "id": "13a5f878-911a-4249-b04c-c35f47793d8b",
   "metadata": {},
   "outputs": [],
   "source": []
  },
  {
   "cell_type": "code",
   "execution_count": null,
   "id": "38eb53df-fef4-4b61-ad14-7ebbd733ea00",
   "metadata": {},
   "outputs": [],
   "source": []
  }
 ],
 "metadata": {
  "kernelspec": {
   "display_name": "Python 3 (ipykernel)",
   "language": "python",
   "name": "python3"
  },
  "language_info": {
   "codemirror_mode": {
    "name": "ipython",
    "version": 3
   },
   "file_extension": ".py",
   "mimetype": "text/x-python",
   "name": "python",
   "nbconvert_exporter": "python",
   "pygments_lexer": "ipython3",
   "version": "3.13.1"
  }
 },
 "nbformat": 4,
 "nbformat_minor": 5
}
